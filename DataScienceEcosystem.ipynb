{
 "cells": [
  {
   "cell_type": "markdown",
   "id": "f312aaf9-1b8d-4163-95f9-6f64dcd2265e",
   "metadata": {},
   "source": [
    "# Data Science Tools and Ecosystem"
   ]
  },
  {
   "cell_type": "markdown",
   "id": "4a59d48d-cd52-412a-b254-efe604ef877a",
   "metadata": {},
   "source": [
    "## In this notebook, Data Science Tools and Ecosystem are summarized."
   ]
  },
  {
   "cell_type": "markdown",
   "id": "bd694975-4d00-4289-9d31-b1ef2d62b253",
   "metadata": {},
   "source": [
    "### *Objectives:*\n",
    "- List popular languages for Data Science\n",
    "- List common open source IDEs\n",
    "- Execute simple arithmetic expressions\n",
    "- Create a table\n"
   ]
  },
  {
   "cell_type": "markdown",
   "id": "71387662-86fc-4bab-b7c7-ddc196187563",
   "metadata": {},
   "source": [
    "### Some of the popular languages that Data Scientists use are:\n",
    "1. Python\n",
    "2. R\n",
    "3. SQL\n",
    "4. C++\n"
   ]
  },
  {
   "cell_type": "markdown",
   "id": "7c6614c1-f662-4920-ad1c-c0e1aa905d3a",
   "metadata": {},
   "source": [
    "### Some of the commonly used libraries used by Data Scientists include:\n",
    "1. Pandas (Python)\n",
    "2. NumPy (Python)\n",
    "3. ggplots (R)"
   ]
  },
  {
   "cell_type": "markdown",
   "id": "d2bff05e-a41d-4c15-921b-cccbbe375541",
   "metadata": {},
   "source": [
    "### Common open source IDEs for Data Science\n",
    "\n",
    "| Data Science Tools |\n",
    "| ------------- |\n",
    "| Jupyter Notebooks |\n",
    "| R Studio |\n",
    "| Microsoft SQL Server |\n"
   ]
  },
  {
   "cell_type": "markdown",
   "id": "9a2b2f86-38bb-413b-8959-3a2f44fa516e",
   "metadata": {},
   "source": [
    "### Below are a few examples of evaluating arithmetic expressions in Python"
   ]
  },
  {
   "cell_type": "code",
   "execution_count": 4,
   "id": "f4fd4df8-6006-40d3-89f4-3c3ab7f4863b",
   "metadata": {},
   "outputs": [
    {
     "data": {
      "text/plain": [
       "17"
      ]
     },
     "execution_count": 4,
     "metadata": {},
     "output_type": "execute_result"
    }
   ],
   "source": [
    "# This a simple arithmetic expression to mutiply then add integers\n",
    "\n",
    "(3*4)+5"
   ]
  },
  {
   "cell_type": "code",
   "execution_count": 5,
   "id": "a2c34a2f-dc6d-4be7-a745-b234309d9e4d",
   "metadata": {},
   "outputs": [
    {
     "name": "stdout",
     "output_type": "stream",
     "text": [
      "3.3333333333333335 hours\n"
     ]
    }
   ],
   "source": [
    "# This will convert 200 minutes to hours by diving by 60\n",
    "\n",
    "print(200/60, \"hours\")"
   ]
  },
  {
   "cell_type": "markdown",
   "id": "4f105f9b-c2ca-48d7-87e3-bb9f25ff8aa4",
   "metadata": {},
   "source": [
    "## Author:\n",
    "Gaby Stankeviciute"
   ]
  }
 ],
 "metadata": {
  "kernelspec": {
   "display_name": "Python 3 (ipykernel)",
   "language": "python",
   "name": "python3"
  },
  "language_info": {
   "codemirror_mode": {
    "name": "ipython",
    "version": 3
   },
   "file_extension": ".py",
   "mimetype": "text/x-python",
   "name": "python",
   "nbconvert_exporter": "python",
   "pygments_lexer": "ipython3",
   "version": "3.11.6"
  }
 },
 "nbformat": 4,
 "nbformat_minor": 5
}
